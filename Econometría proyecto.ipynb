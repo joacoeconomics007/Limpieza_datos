{
 "cells": [
  {
   "cell_type": "markdown",
   "metadata": {},
   "source": [
    "# Librerias y modulos a usar"
   ]
  },
  {
   "cell_type": "code",
   "execution_count": 1,
   "metadata": {},
   "outputs": [],
   "source": [
    "import investpy\n",
    "import datetime\n",
    "import pandas as pd\n",
    "from statsmodels.graphics.tsaplots import plot_acf,plot_pacf\n",
    "import statsmodels.api as sm\n",
    "from statsmodels.tsa.arima_model import ARIMA\n",
    "import numpy as np\n",
    "from sklearn.linear_model import LogisticRegression \n",
    "import matplotlib.pyplot as plt"
   ]
  },
  {
   "cell_type": "markdown",
   "metadata": {},
   "source": [
    "# Acciones de las bolsas:\n",
    "- acc_nasdaq = AAPL (Apple) , AMZN (Amazon) \n",
    "- acc_nyse = MMM (3M), T (At&t)"
   ]
  },
  {
   "cell_type": "markdown",
   "metadata": {},
   "source": [
    "# Creación de base de datos de cada acción y los índices Nasdaq y NYSE"
   ]
  },
  {
   "cell_type": "code",
   "execution_count": 2,
   "metadata": {},
   "outputs": [],
   "source": [
    "fecha_inicio = \"01/01/2015\"\n",
    "fecha_final = \"30/11/2020\"\n",
    "apple = investpy.get_stock_historical_data(stock= \"AAPL\",\n",
    "                                        country='United States',\n",
    "                                        from_date= fecha_inicio,\n",
    "                                        to_date= fecha_final)\n",
    "apple.insert(0, 'Symbol', 'AAPL')\n",
    "\n",
    "amazon = investpy.get_stock_historical_data(stock= \"AMZN\",\n",
    "                                        country='United States',\n",
    "                                        from_date= fecha_inicio,\n",
    "                                        to_date= fecha_final)\n",
    "amazon.insert(0, 'Symbol', 'AMZN')\n",
    "\n",
    "tres_m = investpy.get_stock_historical_data(stock= \"MMM\",\n",
    "                                        country='United States',\n",
    "                                        from_date= fecha_inicio,\n",
    "                                        to_date= fecha_final)\n",
    "tres_m.insert(0, 'Symbol', 'MMM')\n",
    "\n",
    "att = investpy.get_stock_historical_data(stock= \"T\",\n",
    "                                        country='United States',\n",
    "                                        from_date= fecha_inicio,\n",
    "                                        to_date= fecha_final)\n",
    "att.insert(0, 'Symbol', 'T')\n",
    "\n",
    "nasdaq = investpy.get_index_historical_data(index='Nasdaq',\n",
    "                                        country='United States',\n",
    "                                        from_date= fecha_inicio,\n",
    "                                        to_date= fecha_final)\n",
    "nasdaq.insert(0, 'Symbol', 'Nasdaq')\n",
    "\n",
    "nyse = investpy.get_index_historical_data(index='NYSE Composite',\n",
    "                                        country='United States',\n",
    "                                        from_date= fecha_inicio,\n",
    "                                        to_date= fecha_final)\n",
    "nyse.insert(0, 'Symbol', 'NYSE Composite')\n",
    "\n",
    "tbond = investpy.get_bond_historical_data(bond='U.S. 1M',\n",
    "                                        from_date= fecha_inicio,\n",
    "                                        to_date= fecha_final)\n",
    "tbond.insert(0, 'Symbol', 'U.S. 1M')"
   ]
  },
  {
   "cell_type": "code",
   "execution_count": null,
   "metadata": {},
   "outputs": [],
   "source": [
    "apple.to_excel(\"Apple.xlsx\")\n",
    "amazon.to_excel(\"Amazon.xlsx\")\n",
    "tres_m.to_excel(\"3M.xlsx\")\n",
    "att.to_excel(\"Att.xlsx\")\n",
    "nasdaq.to_excel(\"Nasdaq.xlsx\")\n",
    "nyse.to_excel(\"Nyse.xlsx\")\n",
    "tbond.to_excel(\"Tbond.xlsx\")"
   ]
  },
  {
   "cell_type": "markdown",
   "metadata": {},
   "source": [
    "# Agrupando datos por mes"
   ]
  },
  {
   "cell_type": "code",
   "execution_count": 3,
   "metadata": {},
   "outputs": [],
   "source": [
    "apple_M = apple.resample('M').mean()\n",
    "amazon_M = amazon.resample(\"M\").mean()\n",
    "tres_m_M = tres_m.resample(\"M\").mean()\n",
    "att_M = att.resample(\"M\").mean()\n",
    "nasdaq_M = apple.resample('M').mean()\n",
    "nyse_M = amazon.resample(\"M\").mean()\n",
    "tbond_M = tbond.resample(\"M\").mean()"
   ]
  },
  {
   "cell_type": "markdown",
   "metadata": {},
   "source": [
    "# Calculando rendimientos y Rm - Rf"
   ]
  },
  {
   "cell_type": "code",
   "execution_count": 4,
   "metadata": {},
   "outputs": [],
   "source": [
    "nasdaq_M[\"Rendimiento\"] = np.log((nasdaq_M[\"Close\"]/nasdaq_M[\"Close\"].shift(1)))\n",
    "\n",
    "nyse_M[\"Rendimiento\"] = np.log((nyse_M[\"Close\"]/nyse_M[\"Close\"].shift(1)))\n",
    "\n",
    "apple_M[\"Rendimiento\"] = np.log((apple_M[\"Close\"]/apple_M[\"Close\"].shift(1)))\n",
    "apple_M[\"Rm - Rf\"] = nyse_M[\"Rendimiento\"] - tbond_M[\"Close\"]\n",
    "\n",
    "amazon_M[\"Rendimiento\"] = np.log((amazon_M[\"Close\"]/amazon_M[\"Close\"].shift(1)))\n",
    "amazon_M[\"Rm - Rf\"] = nyse_M[\"Rendimiento\"] - tbond_M[\"Close\"]\n",
    "\n",
    "tres_m_M[\"Rendimiento\"] = np.log((tres_m_M[\"Close\"]/tres_m_M[\"Close\"].shift(1)))\n",
    "tres_m_M[\"Rm - Rf\"] = nasdaq_M[\"Rendimiento\"] - tbond_M[\"Close\"]\n",
    "\n",
    "att_M[\"Rendimiento\"] = np.log((att_M[\"Close\"]/att_M[\"Close\"].shift(1)))\n",
    "att_M[\"Rm - Rf\"] = nasdaq_M[\"Rendimiento\"] - tbond_M[\"Close\"]"
   ]
  },
  {
   "cell_type": "markdown",
   "metadata": {},
   "source": [
    "# Quitar valores NaN"
   ]
  },
  {
   "cell_type": "code",
   "execution_count": 5,
   "metadata": {},
   "outputs": [],
   "source": [
    "apple_M = apple_M.dropna()\n",
    "amazon_M = amazon_M.dropna()\n",
    "tres_m_M = tres_m_M.dropna()\n",
    "att_M = att_M.dropna()"
   ]
  },
  {
   "cell_type": "markdown",
   "metadata": {},
   "source": [
    "# Aplicando ARIMA\n",
    "## Apple"
   ]
  },
  {
   "cell_type": "markdown",
   "metadata": {},
   "source": [
    "# Aplicando ARIMA\n",
    "## Amazon"
   ]
  },
  {
   "cell_type": "code",
   "execution_count": null,
   "metadata": {},
   "outputs": [],
   "source": [
    "model = ARIMA(apple_M['Rendimiento'],order=(1,1,1))\n",
    "model_fit = model.fit()\n",
    "model_fit.summary()"
   ]
  },
  {
   "cell_type": "markdown",
   "metadata": {},
   "source": [
    "# Aplicando ARIMA\n",
    "## Tres M"
   ]
  },
  {
   "cell_type": "code",
   "execution_count": null,
   "metadata": {},
   "outputs": [],
   "source": [
    "model = ARIMA(apple_M['Rendimiento'],order=(1,1,1))\n",
    "model_fit = model.fit()\n",
    "model_fit.summary()"
   ]
  },
  {
   "cell_type": "code",
   "execution_count": 6,
   "metadata": {},
   "outputs": [
    {
     "data": {
      "text/html": [
       "<table class=\"simpletable\">\n",
       "<caption>ARIMA Model Results</caption>\n",
       "<tr>\n",
       "  <th>Dep. Variable:</th>   <td>D.Rendimiento</td>  <th>  No. Observations:  </th>    <td>69</td>   \n",
       "</tr>\n",
       "<tr>\n",
       "  <th>Model:</th>          <td>ARIMA(0, 1, 1)</td>  <th>  Log Likelihood     </th>  <td>83.600</td> \n",
       "</tr>\n",
       "<tr>\n",
       "  <th>Method:</th>             <td>css-mle</td>     <th>  S.D. of innovations</th>   <td>0.070</td> \n",
       "</tr>\n",
       "<tr>\n",
       "  <th>Date:</th>          <td>Sun, 06 Dec 2020</td> <th>  AIC                </th> <td>-161.199</td>\n",
       "</tr>\n",
       "<tr>\n",
       "  <th>Time:</th>              <td>20:28:28</td>     <th>  BIC                </th> <td>-154.497</td>\n",
       "</tr>\n",
       "<tr>\n",
       "  <th>Sample:</th>           <td>03-31-2015</td>    <th>  HQIC               </th> <td>-158.540</td>\n",
       "</tr>\n",
       "<tr>\n",
       "  <th></th>                 <td>- 11-30-2020</td>   <th>                     </th>     <td> </td>   \n",
       "</tr>\n",
       "</table>\n",
       "<table class=\"simpletable\">\n",
       "<tr>\n",
       "           <td></td>              <th>coef</th>     <th>std err</th>      <th>z</th>      <th>P>|z|</th>  <th>[0.025</th>    <th>0.975]</th>  \n",
       "</tr>\n",
       "<tr>\n",
       "  <th>const</th>               <td>    0.0007</td> <td>    0.000</td> <td>    1.728</td> <td> 0.089</td> <td>-9.59e-05</td> <td>    0.002</td>\n",
       "</tr>\n",
       "<tr>\n",
       "  <th>ma.L1.D.Rendimiento</th> <td>   -1.0000</td> <td>    0.042</td> <td>  -23.738</td> <td> 0.000</td> <td>   -1.083</td> <td>   -0.917</td>\n",
       "</tr>\n",
       "</table>\n",
       "<table class=\"simpletable\">\n",
       "<caption>Roots</caption>\n",
       "<tr>\n",
       "    <td></td>   <th>            Real</th>  <th>         Imaginary</th> <th>         Modulus</th>  <th>        Frequency</th>\n",
       "</tr>\n",
       "<tr>\n",
       "  <th>MA.1</th> <td>           1.0000</td> <td>          +0.0000j</td> <td>           1.0000</td> <td>           0.0000</td>\n",
       "</tr>\n",
       "</table>"
      ],
      "text/plain": [
       "<class 'statsmodels.iolib.summary.Summary'>\n",
       "\"\"\"\n",
       "                             ARIMA Model Results                              \n",
       "==============================================================================\n",
       "Dep. Variable:          D.Rendimiento   No. Observations:                   69\n",
       "Model:                 ARIMA(0, 1, 1)   Log Likelihood                  83.600\n",
       "Method:                       css-mle   S.D. of innovations              0.070\n",
       "Date:                Sun, 06 Dec 2020   AIC                           -161.199\n",
       "Time:                        20:28:28   BIC                           -154.497\n",
       "Sample:                    03-31-2015   HQIC                          -158.540\n",
       "                         - 11-30-2020                                         \n",
       "=======================================================================================\n",
       "                          coef    std err          z      P>|z|      [0.025      0.975]\n",
       "---------------------------------------------------------------------------------------\n",
       "const                   0.0007      0.000      1.728      0.089   -9.59e-05       0.002\n",
       "ma.L1.D.Rendimiento    -1.0000      0.042    -23.738      0.000      -1.083      -0.917\n",
       "                                    Roots                                    \n",
       "=============================================================================\n",
       "                  Real          Imaginary           Modulus         Frequency\n",
       "-----------------------------------------------------------------------------\n",
       "MA.1            1.0000           +0.0000j            1.0000            0.0000\n",
       "-----------------------------------------------------------------------------\n",
       "\"\"\""
      ]
     },
     "execution_count": 6,
     "metadata": {},
     "output_type": "execute_result"
    }
   ],
   "source": [
    "model = ARIMA(apple_M['Rendimiento'],order=(0,1,1))\n",
    "model_fit = model.fit()\n",
    "model_fit.summary()"
   ]
  },
  {
   "cell_type": "markdown",
   "metadata": {},
   "source": [
    "# Aplicando ARIMA\n",
    "## At&t"
   ]
  },
  {
   "cell_type": "code",
   "execution_count": null,
   "metadata": {},
   "outputs": [],
   "source": [
    "model = ARIMA(apple_M['Rendimiento'],order=(1,1,1))\n",
    "model_fit = model.fit()\n",
    "model_fit.summary()"
   ]
  },
  {
   "cell_type": "markdown",
   "metadata": {},
   "source": [
    "# CAPM\n",
    "$$CAPM = Rf + \\beta_{1}(Rm-Rf) + u$$"
   ]
  },
  {
   "cell_type": "code",
   "execution_count": null,
   "metadata": {},
   "outputs": [],
   "source": [
    "y = apple_M[\"Rendimiento\"]\n",
    "x = apple_M[\"Rm - Rf\"]\n",
    "x = sm.add_constant(x)\n",
    "model1 = sm.OLS(y, x)\n",
    "results = model1.fit()\n",
    "results.summary()"
   ]
  },
  {
   "cell_type": "markdown",
   "metadata": {},
   "source": [
    "# Herramientas"
   ]
  },
  {
   "cell_type": "code",
   "execution_count": null,
   "metadata": {},
   "outputs": [],
   "source": [
    "amazon2 = amazon.resample(\"M\").mean() \n",
    "amazon2.to_excel(\"Amazon2.xlsx\")"
   ]
  },
  {
   "cell_type": "code",
   "execution_count": null,
   "metadata": {},
   "outputs": [],
   "source": [
    "apple.info()\n",
    "amazon.info()\n",
    "tres_m.info()\n",
    "att.info()\n",
    "nasdaq.info()\n",
    "nyse.info()\n",
    "tbond.info()"
   ]
  },
  {
   "cell_type": "code",
   "execution_count": null,
   "metadata": {},
   "outputs": [],
   "source": [
    "apple_M.info()\n",
    "amazon_M.info()\n",
    "tres_m_M.info()\n",
    "att_M.info()\n",
    "nasdaq_M.info()\n",
    "nyse_M.info()\n",
    "tbond_M.info()"
   ]
  },
  {
   "cell_type": "markdown",
   "metadata": {},
   "source": [
    "# Código para buscar los nombres de bonos, acciones e indices"
   ]
  },
  {
   "cell_type": "code",
   "execution_count": null,
   "metadata": {},
   "outputs": [],
   "source": [
    "stocks_df = investpy.get_stocks(country=\"United States\")\n",
    "stocks_df.to_excel(\"Listado EUA.xlsx\")\n",
    "bonds_df = investpy.get_bonds(country=\"United States\")\n",
    "bonds_df.to_excel(\"Bonos en EUA.xlsx\")\n",
    "index_df = investpy.get_indices(country=\"United States\")\n",
    "index_df.to_excel(\"Indices.xlsx\")"
   ]
  },
  {
   "cell_type": "markdown",
   "metadata": {},
   "source": [
    "# Todos los datos a Excel"
   ]
  },
  {
   "cell_type": "code",
   "execution_count": null,
   "metadata": {},
   "outputs": [],
   "source": [
    "apple.to_excel(\"Apple.xlsx\")\n",
    "amazon.to_excel(\"Amazon.xlsx\")\n",
    "tres_m.to_excel(\"3M.xlsx\")\n",
    "att.to_excel(\"Att.xlsx\")\n",
    "nasdaq.to_excel(\"Nasdaq.xlsx\")\n",
    "nyse.to_excel(\"Nyse.xlsx\")\n",
    "tbond.to_excel(\"Tbond.xlsx\")"
   ]
  }
 ],
 "metadata": {
  "kernelspec": {
   "display_name": "Python 3",
   "language": "python",
   "name": "python3"
  },
  "language_info": {
   "codemirror_mode": {
    "name": "ipython",
    "version": 3
   },
   "file_extension": ".py",
   "mimetype": "text/x-python",
   "name": "python",
   "nbconvert_exporter": "python",
   "pygments_lexer": "ipython3",
   "version": "3.7.4"
  }
 },
 "nbformat": 4,
 "nbformat_minor": 2
}
